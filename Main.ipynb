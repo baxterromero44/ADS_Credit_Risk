{
 "cells": [
  {
   "cell_type": "markdown",
   "id": "92b89380",
   "metadata": {},
   "source": [
    "# ADS Final Project, Credit Risk Classification \n",
    "\n",
    "### Baxter Romero, Michael Sexton"
   ]
  },
  {
   "cell_type": "markdown",
   "id": "ba6f0688",
   "metadata": {},
   "source": [
    "### 0. Data / Library Load  + Preprocessing"
   ]
  },
  {
   "cell_type": "code",
   "execution_count": 15,
   "id": "ea85fd18",
   "metadata": {},
   "outputs": [
    {
     "name": "stdout",
     "output_type": "stream",
     "text": [
      "(9578, 14)\n"
     ]
    },
    {
     "data": {
      "text/html": [
       "<div>\n",
       "<style scoped>\n",
       "    .dataframe tbody tr th:only-of-type {\n",
       "        vertical-align: middle;\n",
       "    }\n",
       "\n",
       "    .dataframe tbody tr th {\n",
       "        vertical-align: top;\n",
       "    }\n",
       "\n",
       "    .dataframe thead th {\n",
       "        text-align: right;\n",
       "    }\n",
       "</style>\n",
       "<table border=\"1\" class=\"dataframe\">\n",
       "  <thead>\n",
       "    <tr style=\"text-align: right;\">\n",
       "      <th></th>\n",
       "      <th>credit.policy</th>\n",
       "      <th>purpose</th>\n",
       "      <th>int.rate</th>\n",
       "      <th>installment</th>\n",
       "      <th>log.annual.inc</th>\n",
       "      <th>dti</th>\n",
       "      <th>fico</th>\n",
       "      <th>days.with.cr.line</th>\n",
       "      <th>revol.bal</th>\n",
       "      <th>revol.util</th>\n",
       "      <th>inq.last.6mths</th>\n",
       "      <th>delinq.2yrs</th>\n",
       "      <th>pub.rec</th>\n",
       "      <th>not.fully.paid</th>\n",
       "    </tr>\n",
       "  </thead>\n",
       "  <tbody>\n",
       "    <tr>\n",
       "      <th>0</th>\n",
       "      <td>1</td>\n",
       "      <td>debt_consolidation</td>\n",
       "      <td>0.1189</td>\n",
       "      <td>829.10</td>\n",
       "      <td>11.350407</td>\n",
       "      <td>19.48</td>\n",
       "      <td>737</td>\n",
       "      <td>5639.958333</td>\n",
       "      <td>28854</td>\n",
       "      <td>52.1</td>\n",
       "      <td>0</td>\n",
       "      <td>0</td>\n",
       "      <td>0</td>\n",
       "      <td>0</td>\n",
       "    </tr>\n",
       "    <tr>\n",
       "      <th>1</th>\n",
       "      <td>1</td>\n",
       "      <td>credit_card</td>\n",
       "      <td>0.1071</td>\n",
       "      <td>228.22</td>\n",
       "      <td>11.082143</td>\n",
       "      <td>14.29</td>\n",
       "      <td>707</td>\n",
       "      <td>2760.000000</td>\n",
       "      <td>33623</td>\n",
       "      <td>76.7</td>\n",
       "      <td>0</td>\n",
       "      <td>0</td>\n",
       "      <td>0</td>\n",
       "      <td>0</td>\n",
       "    </tr>\n",
       "    <tr>\n",
       "      <th>2</th>\n",
       "      <td>1</td>\n",
       "      <td>debt_consolidation</td>\n",
       "      <td>0.1357</td>\n",
       "      <td>366.86</td>\n",
       "      <td>10.373491</td>\n",
       "      <td>11.63</td>\n",
       "      <td>682</td>\n",
       "      <td>4710.000000</td>\n",
       "      <td>3511</td>\n",
       "      <td>25.6</td>\n",
       "      <td>1</td>\n",
       "      <td>0</td>\n",
       "      <td>0</td>\n",
       "      <td>0</td>\n",
       "    </tr>\n",
       "    <tr>\n",
       "      <th>3</th>\n",
       "      <td>1</td>\n",
       "      <td>debt_consolidation</td>\n",
       "      <td>0.1008</td>\n",
       "      <td>162.34</td>\n",
       "      <td>11.350407</td>\n",
       "      <td>8.10</td>\n",
       "      <td>712</td>\n",
       "      <td>2699.958333</td>\n",
       "      <td>33667</td>\n",
       "      <td>73.2</td>\n",
       "      <td>1</td>\n",
       "      <td>0</td>\n",
       "      <td>0</td>\n",
       "      <td>0</td>\n",
       "    </tr>\n",
       "    <tr>\n",
       "      <th>4</th>\n",
       "      <td>1</td>\n",
       "      <td>credit_card</td>\n",
       "      <td>0.1426</td>\n",
       "      <td>102.92</td>\n",
       "      <td>11.299732</td>\n",
       "      <td>14.97</td>\n",
       "      <td>667</td>\n",
       "      <td>4066.000000</td>\n",
       "      <td>4740</td>\n",
       "      <td>39.5</td>\n",
       "      <td>0</td>\n",
       "      <td>1</td>\n",
       "      <td>0</td>\n",
       "      <td>0</td>\n",
       "    </tr>\n",
       "  </tbody>\n",
       "</table>\n",
       "</div>"
      ],
      "text/plain": [
       "   credit.policy             purpose  int.rate  installment  log.annual.inc  \\\n",
       "0              1  debt_consolidation    0.1189       829.10       11.350407   \n",
       "1              1         credit_card    0.1071       228.22       11.082143   \n",
       "2              1  debt_consolidation    0.1357       366.86       10.373491   \n",
       "3              1  debt_consolidation    0.1008       162.34       11.350407   \n",
       "4              1         credit_card    0.1426       102.92       11.299732   \n",
       "\n",
       "     dti  fico  days.with.cr.line  revol.bal  revol.util  inq.last.6mths  \\\n",
       "0  19.48   737        5639.958333      28854        52.1               0   \n",
       "1  14.29   707        2760.000000      33623        76.7               0   \n",
       "2  11.63   682        4710.000000       3511        25.6               1   \n",
       "3   8.10   712        2699.958333      33667        73.2               1   \n",
       "4  14.97   667        4066.000000       4740        39.5               0   \n",
       "\n",
       "   delinq.2yrs  pub.rec  not.fully.paid  \n",
       "0            0        0               0  \n",
       "1            0        0               0  \n",
       "2            0        0               0  \n",
       "3            0        0               0  \n",
       "4            1        0               0  "
      ]
     },
     "execution_count": 23,
     "metadata": {},
     "output_type": "execute_result"
    }
   ],
   "source": [
    "#LOAD AND PREPROCESS DATA\n",
    "\n",
    "#Libs\n",
    "import numpy as np\n",
    "import pandas as pd\n",
    "import seaborn as sns\n",
    "import matplotlib.pyplot as plt\n",
    "\n",
    "loans_df = pd.read_csv(\"loan_data.csv\")\n",
    "\n",
    "#loans_df['annual_inc'] = np.exp(loans_df['log.annual.inc']) #keep log value to account for outliers\n",
    "\n",
    "\n",
    "print(loans_df.shape)\n",
    "loans_df.head()"
   ]
  },
  {
   "cell_type": "code",
   "execution_count": 26,
   "id": "146ea58f-2cf5-44ec-b019-2e41766ca9e2",
   "metadata": {},
   "outputs": [
    {
     "data": {
      "text/html": [
       "<div>\n",
       "<style scoped>\n",
       "    .dataframe tbody tr th:only-of-type {\n",
       "        vertical-align: middle;\n",
       "    }\n",
       "\n",
       "    .dataframe tbody tr th {\n",
       "        vertical-align: top;\n",
       "    }\n",
       "\n",
       "    .dataframe thead th {\n",
       "        text-align: right;\n",
       "    }\n",
       "</style>\n",
       "<table border=\"1\" class=\"dataframe\">\n",
       "  <thead>\n",
       "    <tr style=\"text-align: right;\">\n",
       "      <th></th>\n",
       "      <th>credit.policy</th>\n",
       "      <th>purpose</th>\n",
       "      <th>int.rate</th>\n",
       "      <th>installment</th>\n",
       "      <th>log.annual.inc</th>\n",
       "      <th>dti</th>\n",
       "      <th>fico</th>\n",
       "      <th>days.with.cr.line</th>\n",
       "      <th>revol.bal</th>\n",
       "      <th>revol.util</th>\n",
       "      <th>inq.last.6mths</th>\n",
       "      <th>delinq.2yrs</th>\n",
       "      <th>pub.rec</th>\n",
       "      <th>not.fully.paid</th>\n",
       "    </tr>\n",
       "  </thead>\n",
       "  <tbody>\n",
       "    <tr>\n",
       "      <th>0</th>\n",
       "      <td>1</td>\n",
       "      <td>debt_consolidation</td>\n",
       "      <td>0.1189</td>\n",
       "      <td>829.10</td>\n",
       "      <td>11.350407</td>\n",
       "      <td>19.48</td>\n",
       "      <td>737</td>\n",
       "      <td>5639.958333</td>\n",
       "      <td>28854</td>\n",
       "      <td>52.1</td>\n",
       "      <td>0</td>\n",
       "      <td>0</td>\n",
       "      <td>0</td>\n",
       "      <td>0</td>\n",
       "    </tr>\n",
       "    <tr>\n",
       "      <th>1</th>\n",
       "      <td>1</td>\n",
       "      <td>credit_card</td>\n",
       "      <td>0.1071</td>\n",
       "      <td>228.22</td>\n",
       "      <td>11.082143</td>\n",
       "      <td>14.29</td>\n",
       "      <td>707</td>\n",
       "      <td>2760.000000</td>\n",
       "      <td>33623</td>\n",
       "      <td>76.7</td>\n",
       "      <td>0</td>\n",
       "      <td>0</td>\n",
       "      <td>0</td>\n",
       "      <td>0</td>\n",
       "    </tr>\n",
       "    <tr>\n",
       "      <th>2</th>\n",
       "      <td>1</td>\n",
       "      <td>debt_consolidation</td>\n",
       "      <td>0.1357</td>\n",
       "      <td>366.86</td>\n",
       "      <td>10.373491</td>\n",
       "      <td>11.63</td>\n",
       "      <td>682</td>\n",
       "      <td>4710.000000</td>\n",
       "      <td>3511</td>\n",
       "      <td>25.6</td>\n",
       "      <td>1</td>\n",
       "      <td>0</td>\n",
       "      <td>0</td>\n",
       "      <td>0</td>\n",
       "    </tr>\n",
       "    <tr>\n",
       "      <th>3</th>\n",
       "      <td>1</td>\n",
       "      <td>debt_consolidation</td>\n",
       "      <td>0.1008</td>\n",
       "      <td>162.34</td>\n",
       "      <td>11.350407</td>\n",
       "      <td>8.10</td>\n",
       "      <td>712</td>\n",
       "      <td>2699.958333</td>\n",
       "      <td>33667</td>\n",
       "      <td>73.2</td>\n",
       "      <td>1</td>\n",
       "      <td>0</td>\n",
       "      <td>0</td>\n",
       "      <td>0</td>\n",
       "    </tr>\n",
       "    <tr>\n",
       "      <th>4</th>\n",
       "      <td>1</td>\n",
       "      <td>credit_card</td>\n",
       "      <td>0.1426</td>\n",
       "      <td>102.92</td>\n",
       "      <td>11.299732</td>\n",
       "      <td>14.97</td>\n",
       "      <td>667</td>\n",
       "      <td>4066.000000</td>\n",
       "      <td>4740</td>\n",
       "      <td>39.5</td>\n",
       "      <td>0</td>\n",
       "      <td>1</td>\n",
       "      <td>0</td>\n",
       "      <td>0</td>\n",
       "    </tr>\n",
       "  </tbody>\n",
       "</table>\n",
       "</div>"
      ],
      "text/plain": [
       "   credit.policy             purpose  int.rate  installment  log.annual.inc  \\\n",
       "0              1  debt_consolidation    0.1189       829.10       11.350407   \n",
       "1              1         credit_card    0.1071       228.22       11.082143   \n",
       "2              1  debt_consolidation    0.1357       366.86       10.373491   \n",
       "3              1  debt_consolidation    0.1008       162.34       11.350407   \n",
       "4              1         credit_card    0.1426       102.92       11.299732   \n",
       "\n",
       "     dti  fico  days.with.cr.line  revol.bal  revol.util  inq.last.6mths  \\\n",
       "0  19.48   737        5639.958333      28854        52.1               0   \n",
       "1  14.29   707        2760.000000      33623        76.7               0   \n",
       "2  11.63   682        4710.000000       3511        25.6               1   \n",
       "3   8.10   712        2699.958333      33667        73.2               1   \n",
       "4  14.97   667        4066.000000       4740        39.5               0   \n",
       "\n",
       "   delinq.2yrs  pub.rec  not.fully.paid  \n",
       "0            0        0               0  \n",
       "1            0        0               0  \n",
       "2            0        0               0  \n",
       "3            0        0               0  \n",
       "4            1        0               0  "
      ]
     },
     "execution_count": 26,
     "metadata": {},
     "output_type": "execute_result"
    }
   ],
   "source": [
    "#print(loans_df.dtypes)\n",
    "#print(loans_df.isnull().sum())\n",
    "#print(loans_df.duplicated().sum())\n",
    "#print(loans_df['annual_inc'].describe())\n",
    "#print (loans_df['fico'].describe())\n",
    "#print(loans_df['revol.util'].describe())\n",
    "#\n",
    "#sns.boxplot(x=loans_df['dti'])  # Debt-to-Income ratio\n",
    "#plt.title(\"Outlier check: DTI\")\n",
    "#plt.show()\n",
    "#loans_df.corr(numeric_only=True).style.background_gradient(cmap='coolwarm')\n",
    "\n",
    "#remove rows where credit lines totals are >100%\n",
    "loans_df = loans_df[loans_df['revol.util'] <= 100]\n",
    "\n",
    "loans_df.head(5)\n"
   ]
  },
  {
   "cell_type": "markdown",
   "id": "324c33b9",
   "metadata": {},
   "source": [
    "In this preprocessing step, the dataset is loaded and inspected for outliers, with particular attention to revol.util, where rows exceeding 100% credit utilization are removed to eliminate potential anomalies or data quality issues. The log.annual.inc feature is retained in its logarithmic form to preserve the effect of income while reducing the influence of extreme outliers. Total preprocessing analysis includes things such as missing values, duplicate rows, data types, and debt-to-incomeratio distribution."
   ]
  },
  {
   "cell_type": "markdown",
   "id": "3dbd400e",
   "metadata": {},
   "source": [
    "### 1 . KMeans Clustering"
   ]
  },
  {
   "cell_type": "markdown",
   "id": "cb3b2ef2",
   "metadata": {},
   "source": [
    "Testing the core hypothesis — that borrowers can be grouped based on financial similarity."
   ]
  },
  {
   "cell_type": "code",
   "execution_count": null,
   "id": "05152724",
   "metadata": {},
   "outputs": [],
   "source": [
    "#KMEANS CODE + RESULTS"
   ]
  },
  {
   "cell_type": "markdown",
   "id": "a42a352f",
   "metadata": {},
   "source": [
    "Explanation for techniques used"
   ]
  },
  {
   "cell_type": "markdown",
   "id": "89cb053a",
   "metadata": {},
   "source": [
    "### 2. Feature Analysis + Thresholding"
   ]
  },
  {
   "cell_type": "code",
   "execution_count": 3,
   "id": "2851990f",
   "metadata": {},
   "outputs": [],
   "source": [
    "#FIND FEATURES WITH LOWEST SUM OF SQUARED ERROR, IDEALLY HAVE HIGH COHESION AND MAXIMIZE CLUSTER SEPARATION"
   ]
  },
  {
   "cell_type": "markdown",
   "id": "f8e99dcf",
   "metadata": {},
   "source": [
    "Explanation for techniques used"
   ]
  },
  {
   "cell_type": "markdown",
   "id": "627f7612",
   "metadata": {},
   "source": [
    "### 3. Market Basket Analysis (Apriori)"
   ]
  },
  {
   "cell_type": "code",
   "execution_count": 4,
   "id": "ec7377dc",
   "metadata": {},
   "outputs": [],
   "source": [
    "#USE APRIORI TO FIND FREQUENT CO-OCCURENCE PATTERNS AMONG SELECTED FEATURES TO EXAMINE BEHAVIORAL INSIGHT WITHIN OR ACROSS CLUSTERS"
   ]
  },
  {
   "cell_type": "markdown",
   "id": "32cdbc52",
   "metadata": {},
   "source": [
    "Explanation for techniques used"
   ]
  },
  {
   "cell_type": "markdown",
   "id": "47369c93",
   "metadata": {},
   "source": [
    "### Decision Stump Feature Engineering"
   ]
  },
  {
   "cell_type": "code",
   "execution_count": 5,
   "id": "917925db",
   "metadata": {},
   "outputs": [],
   "source": [
    "#FINALIZE WHICH FEATURES OR COMBINATIONS DRIVE RISK. DECISION TREE/STUMP GIVE CLEAR SIGNAL ON WHICH FEATURES MATTER BASED ON CLEANED/FILTERED DATA"
   ]
  },
  {
   "cell_type": "markdown",
   "id": "fe33792e",
   "metadata": {},
   "source": [
    "Explanation for techniques used"
   ]
  },
  {
   "cell_type": "markdown",
   "id": "3365100f",
   "metadata": {},
   "source": [
    "### Risk Profiling and Validation"
   ]
  },
  {
   "cell_type": "code",
   "execution_count": null,
   "id": "b98055c1",
   "metadata": {},
   "outputs": [],
   "source": [
    "#VALIDATE ENTIRE PIPELINE BY CHECKING IF APPROACH BETTER EXPLAINS OR PREDICTS RISK COMPARED TO FICO"
   ]
  },
  {
   "cell_type": "markdown",
   "id": "5e869cad",
   "metadata": {},
   "source": [
    "Explanation for techniques used + Hypothesis Tieback "
   ]
  },
  {
   "cell_type": "code",
   "execution_count": null,
   "id": "c20e58a2",
   "metadata": {},
   "outputs": [],
   "source": []
  }
 ],
 "metadata": {
  "kernelspec": {
   "display_name": "Python 3 (ipykernel)",
   "language": "python",
   "name": "python3"
  },
  "language_info": {
   "codemirror_mode": {
    "name": "ipython",
    "version": 3
   },
   "file_extension": ".py",
   "mimetype": "text/x-python",
   "name": "python",
   "nbconvert_exporter": "python",
   "pygments_lexer": "ipython3",
   "version": "3.10.8"
  }
 },
 "nbformat": 4,
 "nbformat_minor": 5
}
